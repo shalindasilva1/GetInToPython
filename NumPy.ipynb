{
 "cells": [
  {
   "cell_type": "code",
   "execution_count": 51,
   "id": "1a1dbb0f",
   "metadata": {},
   "outputs": [
    {
     "name": "stdout",
     "output_type": "stream",
     "text": [
      "Requirement already satisfied: numpy in /Library/Frameworks/Python.framework/Versions/3.12/lib/python3.12/site-packages (2.0.1)\n",
      "\n",
      "\u001b[1m[\u001b[0m\u001b[34;49mnotice\u001b[0m\u001b[1;39;49m]\u001b[0m\u001b[39;49m A new release of pip is available: \u001b[0m\u001b[31;49m24.0\u001b[0m\u001b[39;49m -> \u001b[0m\u001b[32;49m24.2\u001b[0m\n",
      "\u001b[1m[\u001b[0m\u001b[34;49mnotice\u001b[0m\u001b[1;39;49m]\u001b[0m\u001b[39;49m To update, run: \u001b[0m\u001b[32;49mpip3 install --upgrade pip\u001b[0m\n",
      "Note: you may need to restart the kernel to use updated packages.\n"
     ]
    }
   ],
   "source": [
    "pip install numpy"
   ]
  },
  {
   "cell_type": "markdown",
   "id": "28704f1d",
   "metadata": {},
   "source": [
    "# Introduction to NumPy\n",
    "NumPy is a fundamental package for numerical computing in Python. It provides support for arrays, matrices, and many mathematical functions to operate on these data structures.\n",
    "\n",
    "In this notebook, we'll explore the basic usage of NumPy, including creating arrays, performing basic operations, and understanding some fundamental functions."
   ]
  },
  {
   "cell_type": "code",
   "execution_count": 48,
   "id": "90a354c0",
   "metadata": {},
   "outputs": [
    {
     "name": "stdout",
     "output_type": "stream",
     "text": [
      "2.0.1\n"
     ]
    }
   ],
   "source": [
    "# Importing NumPy\n",
    "import numpy as np\n",
    "\n",
    "# Check the version of NumPy\n",
    "print(np.__version__)"
   ]
  },
  {
   "cell_type": "markdown",
   "id": "ebb72522",
   "metadata": {},
   "source": [
    "## Creating NumPy Arrays\n",
    "NumPy arrays are similar to Python lists, but they offer better performance and more functionality. Let's create some basic arrays."
   ]
  },
  {
   "cell_type": "code",
   "execution_count": 49,
   "id": "5afcea57",
   "metadata": {},
   "outputs": [
    {
     "name": "stdout",
     "output_type": "stream",
     "text": [
      "1D Array:\n",
      "[1 2 3 4 5]\n",
      "\n",
      "2D Array:\n",
      "[[1 2 3]\n",
      " [4 5 6]]\n",
      "\n",
      "Array of Zeros:\n",
      "[[0. 0. 0.]\n",
      " [0. 0. 0.]]\n",
      "\n",
      "Array of Ones:\n",
      "[[1. 1. 1.]\n",
      " [1. 1. 1.]]\n"
     ]
    }
   ],
   "source": [
    "# Create a 1D array\n",
    "array_1d = np.array([1, 2, 3, 4, 5])\n",
    "print(\"1D Array:\")\n",
    "print(array_1d)\n",
    "\n",
    "# Create a 2D array\n",
    "array_2d = np.array([[1, 2, 3], [4, 5, 6]])\n",
    "print(\"\\n2D Array:\")\n",
    "print(array_2d)\n",
    "\n",
    "# Create an array of zeros\n",
    "zeros_array = np.zeros((2, 3))\n",
    "print(\"\\nArray of Zeros:\")\n",
    "print(zeros_array)\n",
    "\n",
    "# Create an array of ones\n",
    "ones_array = np.ones((2, 3))\n",
    "print(\"\\nArray of Ones:\")\n",
    "print(ones_array)"
   ]
  },
  {
   "cell_type": "markdown",
   "id": "30ae01fa",
   "metadata": {},
   "source": [
    "## Basic Operations with NumPy Arrays\n",
    "NumPy arrays support a wide range of mathematical operations. We'll look at some basic operations such as addition, multiplication, and finding the mean."
   ]
  },
  {
   "cell_type": "code",
   "execution_count": 50,
   "id": "3a1cafca",
   "metadata": {},
   "outputs": [
    {
     "name": "stdout",
     "output_type": "stream",
     "text": [
      "Addition:\n",
      "[[ 5  7  9]\n",
      " [11 13 15]]\n",
      "\n",
      "Element-wise Multiplication:\n",
      "[[ 4 10 18]\n",
      " [28 40 54]]\n",
      "\n",
      "Mean of Array:\n",
      "3.5\n"
     ]
    }
   ],
   "source": [
    "# Basic operations\n",
    "array1 = np.array([[1, 2, 3], [4, 5, 6]])\n",
    "array2 = np.array([[4, 5, 6], [7, 8, 9]])\n",
    "\n",
    "# Addition\n",
    "addition = array1 + array2\n",
    "print(\"Addition:\")\n",
    "print(addition)\n",
    "\n",
    "# Element-wise multiplication\n",
    "multiplication = array1 * array2\n",
    "print(\"\\nElement-wise Multiplication:\")\n",
    "print(multiplication)\n",
    "\n",
    "# Mean of array\n",
    "mean_value = np.mean(array1)\n",
    "print(\"\\nMean of Array:\")\n",
    "print(mean_value)"
   ]
  },
  {
   "cell_type": "markdown",
   "id": "4502cfe8",
   "metadata": {},
   "source": [
    "## Conclusion\n",
    "We have covered some fundamental aspects of NumPy, including creating arrays, performing basic operations, and using common functions. NumPy is a crucial library for numerical computations and will be essential for more advanced data analysis and scientific computing tasks."
   ]
  }
 ],
 "metadata": {
  "kernelspec": {
   "display_name": "Python 3",
   "language": "python",
   "name": "python3"
  },
  "language_info": {
   "codemirror_mode": {
    "name": "ipython",
    "version": 3
   },
   "file_extension": ".py",
   "mimetype": "text/x-python",
   "name": "python",
   "nbconvert_exporter": "python",
   "pygments_lexer": "ipython3",
   "version": "3.8.5"
  }
 },
 "nbformat": 4,
 "nbformat_minor": 5
}
