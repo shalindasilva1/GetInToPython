{
 "cells": [
  {
   "cell_type": "markdown",
   "id": "ee9ba1a1",
   "metadata": {},
   "source": [
    "# Hello, World! in Python\n",
    "Like any other programming language lets start with \"Hello, World!\"."
   ]
  },
  {
   "cell_type": "code",
   "execution_count": 91,
   "id": "bee7a309-c8f3-4fed-b88a-074f9618a972",
   "metadata": {},
   "outputs": [
    {
     "name": "stdout",
     "output_type": "stream",
     "text": [
      "Hello, World!\n"
     ]
    }
   ],
   "source": [
    "print(\"Hello, World!\")"
   ]
  },
  {
   "cell_type": "markdown",
   "id": "1d8d0c94-c49d-46dc-bb84-18c98ad04c2a",
   "metadata": {},
   "source": [
    "## Variables and Data Types\n",
    "- Variables are used to store and access different types of data within a computer program.\n",
    "- This data is stored in computer memory (which can be your RAM, HDD, etc.).\n",
    "- When storing data, you assign a name to a specific location in memory.\n",
    "- That process is called declaring a variable.\n",
    "- Python has few data types called Intiger, Float, String, Boolean, etc."
   ]
  },
  {
   "cell_type": "markdown",
   "id": "302052e2",
   "metadata": {},
   "source": [
    "### 1. Numeric types \n",
    "1. Intiger"
   ]
  },
  {
   "cell_type": "code",
   "execution_count": 92,
   "id": "562badf3",
   "metadata": {},
   "outputs": [],
   "source": [
    "intvar = 5"
   ]
  },
  {
   "cell_type": "markdown",
   "id": "cb72b72b",
   "metadata": {},
   "source": [
    "2. Float\n"
   ]
  },
  {
   "cell_type": "code",
   "execution_count": 93,
   "id": "f86cc43d-c7db-47ce-b088-bf2a64b05de4",
   "metadata": {},
   "outputs": [],
   "source": [
    "fltvar = 1.23456"
   ]
  },
  {
   "cell_type": "markdown",
   "id": "69d555a8",
   "metadata": {},
   "source": [
    "3. Complex\n"
   ]
  },
  {
   "cell_type": "code",
   "execution_count": 94,
   "id": "e7fd4699",
   "metadata": {},
   "outputs": [],
   "source": [
    "compvar = 3+4j"
   ]
  },
  {
   "cell_type": "markdown",
   "id": "d73258fc",
   "metadata": {},
   "source": [
    "### 2. Text type"
   ]
  },
  {
   "cell_type": "code",
   "execution_count": 95,
   "id": "5cf81d7f-9ce0-4a0d-a8ca-6c8b5269907f",
   "metadata": {},
   "outputs": [],
   "source": [
    "strvar = \"this is a string\""
   ]
  },
  {
   "cell_type": "markdown",
   "id": "da7e1936",
   "metadata": {},
   "source": [
    "### 3. Sequence type\n",
    "1. List\n"
   ]
  },
  {
   "cell_type": "code",
   "execution_count": 96,
   "id": "72a34b23",
   "metadata": {},
   "outputs": [],
   "source": [
    "lstvar = [1,2,3]"
   ]
  },
  {
   "cell_type": "markdown",
   "id": "7227e530",
   "metadata": {},
   "source": [
    "2. Tuple\n"
   ]
  },
  {
   "cell_type": "code",
   "execution_count": 97,
   "id": "71d9844f",
   "metadata": {},
   "outputs": [],
   "source": [
    "tupvar = (1,2,3)"
   ]
  },
  {
   "cell_type": "markdown",
   "id": "047253b3",
   "metadata": {},
   "source": [
    "3. Dictionary \n"
   ]
  },
  {
   "cell_type": "code",
   "execution_count": 98,
   "id": "153ff003",
   "metadata": {},
   "outputs": [],
   "source": [
    "dicvar = {\"x\":1,\"y\":2,\"z\":3}"
   ]
  },
  {
   "cell_type": "markdown",
   "id": "55cdc9a9",
   "metadata": {},
   "source": [
    "4. Range\n"
   ]
  },
  {
   "cell_type": "code",
   "execution_count": 99,
   "id": "204139bf-c724-45b0-a60f-f1f469e1c001",
   "metadata": {},
   "outputs": [],
   "source": [
    "rgnvar = range(10)"
   ]
  },
  {
   "cell_type": "markdown",
   "id": "01d63c53",
   "metadata": {},
   "source": [
    "### 4. Boolean type"
   ]
  },
  {
   "cell_type": "code",
   "execution_count": 100,
   "id": "834e60dc-d540-4c16-832a-acfdd3219635",
   "metadata": {},
   "outputs": [],
   "source": [
    "boolvar = False"
   ]
  },
  {
   "cell_type": "markdown",
   "id": "47f91c1f",
   "metadata": {},
   "source": [
    "Now lets print those variables."
   ]
  },
  {
   "cell_type": "code",
   "execution_count": 101,
   "id": "01b366fa-e141-4862-852c-989dd08ee3a7",
   "metadata": {},
   "outputs": [
    {
     "name": "stdout",
     "output_type": "stream",
     "text": [
      "5 1.23456 (3+4j) this is a string [1, 2, 3] (1, 2, 3) {'x': 1, 'y': 2, 'z': 3} range(0, 10) False\n"
     ]
    }
   ],
   "source": [
    "print(intvar, fltvar, compvar, strvar, lstvar, tupvar, dicvar, rgnvar, boolvar)"
   ]
  },
  {
   "cell_type": "markdown",
   "id": "e91170fb-aef8-470c-a8ab-2052ccb5d420",
   "metadata": {},
   "source": [
    "## Basic Operations\n",
    "- You can perform operations on variables.\n",
    "- Two or more variables/values will manupilated to give a new value."
   ]
  },
  {
   "cell_type": "code",
   "execution_count": 102,
   "id": "9d9e4986",
   "metadata": {},
   "outputs": [],
   "source": [
    "x = 5\n",
    "y = 3"
   ]
  },
  {
   "cell_type": "markdown",
   "id": "e96d261c-029a-4965-b783-5fd5e1ac6b18",
   "metadata": {},
   "source": [
    "1. Addition"
   ]
  },
  {
   "cell_type": "code",
   "execution_count": 103,
   "id": "c4ce7c35",
   "metadata": {},
   "outputs": [],
   "source": [
    "sum = x + y"
   ]
  },
  {
   "cell_type": "markdown",
   "id": "1a52e3cd",
   "metadata": {},
   "source": [
    "2. Subtraction"
   ]
  },
  {
   "cell_type": "code",
   "execution_count": 104,
   "id": "63f91574",
   "metadata": {},
   "outputs": [],
   "source": [
    "difference = x - y"
   ]
  },
  {
   "cell_type": "markdown",
   "id": "de127764",
   "metadata": {},
   "source": [
    "3. Multiplication"
   ]
  },
  {
   "cell_type": "code",
   "execution_count": 105,
   "id": "54da23d3",
   "metadata": {},
   "outputs": [],
   "source": [
    "product = x * y"
   ]
  },
  {
   "cell_type": "markdown",
   "id": "ba31dcd6",
   "metadata": {},
   "source": [
    "4. Division"
   ]
  },
  {
   "cell_type": "code",
   "execution_count": 106,
   "id": "5e8c877c",
   "metadata": {},
   "outputs": [
    {
     "name": "stdout",
     "output_type": "stream",
     "text": [
      "8 2 15 1.6666666666666667\n"
     ]
    }
   ],
   "source": [
    "quotient = x / y\n",
    "\n",
    "print(sum, difference, product, quotient)"
   ]
  },
  {
   "cell_type": "markdown",
   "id": "c96dd7c9",
   "metadata": {},
   "source": [
    "## Lists\n",
    "- Lists are used to store multiple items in a single variable.\n",
    "- Lists has properties like indexes, values, and lenghts etc."
   ]
  },
  {
   "cell_type": "markdown",
   "id": "e8287e13",
   "metadata": {},
   "source": [
    "1. List of integers\n"
   ]
  },
  {
   "cell_type": "code",
   "execution_count": 107,
   "id": "1d364485",
   "metadata": {},
   "outputs": [],
   "source": [
    "numbers = [1, 2, 3, 4, 5]"
   ]
  },
  {
   "cell_type": "markdown",
   "id": "53254446",
   "metadata": {},
   "source": [
    "2. List of strings\n"
   ]
  },
  {
   "cell_type": "code",
   "execution_count": 108,
   "id": "be4c6e00",
   "metadata": {},
   "outputs": [],
   "source": [
    "names = [\"Alice\", \"Bob\", \"Charlie\"]"
   ]
  },
  {
   "cell_type": "markdown",
   "id": "8c2c1d03",
   "metadata": {},
   "source": [
    "3. Dictionary"
   ]
  },
  {
   "cell_type": "code",
   "execution_count": 109,
   "id": "65f78844",
   "metadata": {},
   "outputs": [],
   "source": [
    "person = {\n",
    "    \"name\": \"Alice\",\n",
    "    \"age\": 25,\n",
    "    \"city\": \"New York\"\n",
    "}"
   ]
  },
  {
   "cell_type": "markdown",
   "id": "147b32da",
   "metadata": {},
   "source": [
    "4. Accessing elements\n"
   ]
  },
  {
   "cell_type": "code",
   "execution_count": 110,
   "id": "ee7ea326",
   "metadata": {},
   "outputs": [
    {
     "name": "stdout",
     "output_type": "stream",
     "text": [
      "[1, 2, 3, 4, 5] ['Alice', 'Bob', 'Charlie'] 1 Bob\n",
      "Alice 25 New York\n"
     ]
    }
   ],
   "source": [
    "first_number = numbers[0]\n",
    "second_name = names[1]\n",
    "\n",
    "print(numbers, names, first_number, second_name)\n",
    "print(person[\"name\"], person[\"age\"], person[\"city\"])"
   ]
  },
  {
   "cell_type": "markdown",
   "id": "2d777039",
   "metadata": {},
   "source": [
    "## If-Else Statements\n",
    "- Conditional statements are used to perform different actions based on different conditions."
   ]
  },
  {
   "cell_type": "code",
   "execution_count": 111,
   "id": "3ac06e18",
   "metadata": {},
   "outputs": [
    {
     "name": "stdout",
     "output_type": "stream",
     "text": [
      "x is positive\n"
     ]
    }
   ],
   "source": [
    "if x > 0:\n",
    "    print(\"x is positive\")\n",
    "elif x < 0:\n",
    "    print(\"x is negative\")\n",
    "else:\n",
    "    print(\"x is zero\")\n"
   ]
  },
  {
   "cell_type": "markdown",
   "id": "76c06779",
   "metadata": {},
   "source": [
    "## Loops\n",
    "- Loops are used to iterate over a sequence (like a list)."
   ]
  },
  {
   "cell_type": "markdown",
   "id": "464edc91",
   "metadata": {},
   "source": [
    "1. For loop\n"
   ]
  },
  {
   "cell_type": "code",
   "execution_count": 112,
   "id": "e4f9f556",
   "metadata": {},
   "outputs": [
    {
     "name": "stdout",
     "output_type": "stream",
     "text": [
      "1\n",
      "2\n",
      "3\n",
      "4\n",
      "5\n"
     ]
    }
   ],
   "source": [
    "for num in numbers:\n",
    "    print(num)"
   ]
  },
  {
   "cell_type": "markdown",
   "id": "56f9612e",
   "metadata": {},
   "source": [
    "2. While loop\n"
   ]
  },
  {
   "cell_type": "code",
   "execution_count": 113,
   "id": "941a9f77",
   "metadata": {},
   "outputs": [
    {
     "name": "stdout",
     "output_type": "stream",
     "text": [
      "0\n",
      "1\n",
      "2\n",
      "3\n",
      "4\n"
     ]
    }
   ],
   "source": [
    "count = 0\n",
    "while count < 5:\n",
    "    print(count)\n",
    "    count += 1"
   ]
  },
  {
   "cell_type": "markdown",
   "id": "9d32107a",
   "metadata": {},
   "source": [
    "## Functions\n",
    "- Functions are blocks of code that perform a specific task."
   ]
  },
  {
   "cell_type": "markdown",
   "id": "c0ebe8d7",
   "metadata": {},
   "source": [
    "1. Function definition\n"
   ]
  },
  {
   "cell_type": "code",
   "execution_count": 114,
   "id": "ac5bec64",
   "metadata": {},
   "outputs": [],
   "source": [
    "def greet(name):\n",
    "    return f\"Hello, {name}!\""
   ]
  },
  {
   "cell_type": "markdown",
   "id": "fb1429c0",
   "metadata": {},
   "source": [
    "2. Function call\n"
   ]
  },
  {
   "cell_type": "code",
   "execution_count": 115,
   "id": "5f8f16f3",
   "metadata": {},
   "outputs": [
    {
     "name": "stdout",
     "output_type": "stream",
     "text": [
      "Hello, Alice!\n"
     ]
    }
   ],
   "source": [
    "message = greet(\"Alice\")\n",
    "print(message)"
   ]
  },
  {
   "cell_type": "markdown",
   "id": "5f86b404",
   "metadata": {},
   "source": [
    "## Classes and Objects\n",
    "- Python is an object-oriented programming language, which means it supports classes and objects."
   ]
  },
  {
   "cell_type": "markdown",
   "id": "fffcdebe",
   "metadata": {},
   "source": [
    "1. Class definition\n"
   ]
  },
  {
   "cell_type": "code",
   "execution_count": 116,
   "id": "5d1b3eb4",
   "metadata": {},
   "outputs": [],
   "source": [
    "class Person:\n",
    "    def __init__(self, name, age):\n",
    "        self.name = name\n",
    "        self.age = age\n",
    "\n",
    "    def greet(self):\n",
    "        return f\"Hello, my name is {self.name} and I am {self.age} years old.\"\n"
   ]
  },
  {
   "cell_type": "markdown",
   "id": "617ace3e",
   "metadata": {},
   "source": [
    "2. Creating an object"
   ]
  },
  {
   "cell_type": "code",
   "execution_count": 117,
   "id": "fb7ed85d",
   "metadata": {},
   "outputs": [],
   "source": [
    "person1 = Person(\"Alice\", 25)"
   ]
  },
  {
   "cell_type": "markdown",
   "id": "3f72361f",
   "metadata": {},
   "source": [
    "3. Calling a method"
   ]
  },
  {
   "cell_type": "code",
   "execution_count": 118,
   "id": "df058f14",
   "metadata": {},
   "outputs": [
    {
     "name": "stdout",
     "output_type": "stream",
     "text": [
      "Hello, my name is Alice and I am 25 years old.\n"
     ]
    }
   ],
   "source": [
    "print(person1.greet())"
   ]
  },
  {
   "cell_type": "markdown",
   "id": "82860552",
   "metadata": {},
   "source": [
    "## Reading from and Writing to Files\n",
    "- You can read from and write to files in Python."
   ]
  },
  {
   "cell_type": "markdown",
   "id": "9c2a6de8",
   "metadata": {},
   "source": [
    "1. Writing to a file"
   ]
  },
  {
   "cell_type": "code",
   "execution_count": 119,
   "id": "c23c6629",
   "metadata": {},
   "outputs": [],
   "source": [
    "with open(\"example.txt\", \"w\") as file:\n",
    "    file.write(\"Hello, World!\")"
   ]
  },
  {
   "cell_type": "markdown",
   "id": "961a60ef",
   "metadata": {},
   "source": [
    "2. Reading from a file\n"
   ]
  },
  {
   "cell_type": "code",
   "execution_count": 120,
   "id": "9b2c6a06",
   "metadata": {},
   "outputs": [
    {
     "name": "stdout",
     "output_type": "stream",
     "text": [
      "Hello, World!\n"
     ]
    }
   ],
   "source": [
    "with open(\"example.txt\", \"r\") as file:\n",
    "    content = file.read()\n",
    "    print(content)\n"
   ]
  }
 ],
 "metadata": {
  "kernelspec": {
   "display_name": "Python 3 (ipykernel)",
   "language": "python",
   "name": "python3"
  },
  "language_info": {
   "codemirror_mode": {
    "name": "ipython",
    "version": 3
   },
   "file_extension": ".py",
   "mimetype": "text/x-python",
   "name": "python",
   "nbconvert_exporter": "python",
   "pygments_lexer": "ipython3",
   "version": "3.12.4"
  }
 },
 "nbformat": 4,
 "nbformat_minor": 5
}
