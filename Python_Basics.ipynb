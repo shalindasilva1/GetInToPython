{
 "cells": [
  {
   "cell_type": "code",
   "execution_count": 2,
   "id": "bee7a309-c8f3-4fed-b88a-074f9618a972",
   "metadata": {},
   "outputs": [
    {
     "name": "stdout",
     "output_type": "stream",
     "text": [
      "Hello, World!\n"
     ]
    }
   ],
   "source": [
    "# Like any other programming language lets start with \"Hello, World!\"\n",
    "\n",
    "print(\"Hello, World!\")"
   ]
  },
  {
   "cell_type": "code",
   "execution_count": 3,
   "id": "1d8d0c94-c49d-46dc-bb84-18c98ad04c2a",
   "metadata": {},
   "outputs": [],
   "source": [
    "# Variables and Data Types\n",
    "## Variables are used to store and access diffent types of data within a computer programme\n",
    "## This data is stored in computer memory(This can be your RAM, HDD, ect.)\n",
    "## When storing data you have to give a name to a certian location of your memory.\n",
    "## That process is called declaring a variable\n",
    "## Python has few data types called Intiger, Float, String, Boolean, etc."
   ]
  },
  {
   "cell_type": "code",
   "execution_count": 4,
   "id": "f86cc43d-c7db-47ce-b088-bf2a64b05de4",
   "metadata": {},
   "outputs": [],
   "source": [
    "# 1. Numeric types \n",
    "##   -Intiger\n",
    "\n",
    "intvar = 5\n",
    "\n",
    "##    -Float\n",
    "\n",
    "fltvar = 1.23456\n",
    "\n",
    "##    -Complex\n",
    "\n",
    "compvar = 3+4j"
   ]
  },
  {
   "cell_type": "code",
   "execution_count": 5,
   "id": "5cf81d7f-9ce0-4a0d-a8ca-6c8b5269907f",
   "metadata": {},
   "outputs": [],
   "source": [
    "# 2. Text type\n",
    "strvar = \"this is a string\""
   ]
  },
  {
   "cell_type": "code",
   "execution_count": 6,
   "id": "204139bf-c724-45b0-a60f-f1f469e1c001",
   "metadata": {},
   "outputs": [],
   "source": [
    "# 3. Sequence type\n",
    "##    -List\n",
    "\n",
    "lstvar = [1,2,3]\n",
    "\n",
    "##    -Tuple\n",
    "\n",
    "tupvar = (1,2,3)\n",
    "\n",
    "##    -Dictionary \n",
    "\n",
    "dicvar = {\"x\":1,\"y\":2,\"z\":3}\n",
    "\n",
    "##    -Range\n",
    "\n",
    "rgnvar = range(10)"
   ]
  },
  {
   "cell_type": "code",
   "execution_count": 7,
   "id": "834e60dc-d540-4c16-832a-acfdd3219635",
   "metadata": {},
   "outputs": [],
   "source": [
    "# 4. Boolean type\n",
    "boolvar = False"
   ]
  },
  {
   "cell_type": "code",
   "execution_count": 8,
   "id": "01b366fa-e141-4862-852c-989dd08ee3a7",
   "metadata": {},
   "outputs": [
    {
     "name": "stdout",
     "output_type": "stream",
     "text": [
      "5 1.23456 (3+4j) this is a string [1, 2, 3] (1, 2, 3) {'x': 1, 'y': 2, 'z': 3} range(0, 10) False\n"
     ]
    }
   ],
   "source": [
    "print(intvar, fltvar, compvar, strvar, lstvar, tupvar, dicvar, rgnvar, boolvar)"
   ]
  },
  {
   "cell_type": "code",
   "execution_count": 9,
   "id": "e91170fb-aef8-470c-a8ab-2052ccb5d420",
   "metadata": {},
   "outputs": [],
   "source": [
    "# Basic Operations\n",
    "## You can perform operations on variables"
   ]
  },
  {
   "cell_type": "code",
   "execution_count": 10,
   "id": "e96d261c-029a-4965-b783-5fd5e1ac6b18",
   "metadata": {},
   "outputs": [
    {
     "name": "stdout",
     "output_type": "stream",
     "text": [
      "8 2 15 1.6666666666666667\n"
     ]
    }
   ],
   "source": [
    "x=5\n",
    "y=3\n",
    "\n",
    "# Addition\n",
    "sum = x + y\n",
    "\n",
    "# Subtraction\n",
    "difference = x - y\n",
    "\n",
    "# Multiplication\n",
    "product = x * y\n",
    "\n",
    "# Division\n",
    "quotient = x / y\n",
    "\n",
    "print(sum, difference, product, quotient)"
   ]
  },
  {
   "cell_type": "code",
   "execution_count": 11,
   "id": "c96dd7c9",
   "metadata": {},
   "outputs": [],
   "source": [
    "# Lists\n",
    "## Lists are used to store multiple items in a single variable"
   ]
  },
  {
   "cell_type": "code",
   "execution_count": 22,
   "id": "ee7ea326",
   "metadata": {},
   "outputs": [
    {
     "name": "stdout",
     "output_type": "stream",
     "text": [
      "[1, 2, 3, 4, 5] ['Alice', 'Bob', 'Charlie'] 1 Bob\n"
     ]
    }
   ],
   "source": [
    "# List of integers\n",
    "numbers = [1, 2, 3, 4, 5]\n",
    "\n",
    "# List of strings\n",
    "names = [\"Alice\", \"Bob\", \"Charlie\"]\n",
    "\n",
    "# Accessing elements\n",
    "first_number = numbers[0]\n",
    "second_name = names[1]\n",
    "\n",
    "print(numbers, names, first_number, second_name)\n"
   ]
  },
  {
   "cell_type": "code",
   "execution_count": 23,
   "id": "378b9828",
   "metadata": {},
   "outputs": [
    {
     "name": "stdout",
     "output_type": "stream",
     "text": [
      "Alice 25 New York\n"
     ]
    }
   ],
   "source": [
    "# Dictionary\n",
    "person = {\n",
    "    \"name\": \"Alice\",\n",
    "    \"age\": 25,\n",
    "    \"city\": \"New York\"\n",
    "}\n",
    "\n",
    "# Accessing values\n",
    "print(person[\"name\"], person[\"age\"], person[\"city\"])\n"
   ]
  },
  {
   "cell_type": "code",
   "execution_count": 14,
   "id": "76c06779",
   "metadata": {},
   "outputs": [],
   "source": [
    "# Loops\n",
    "## Loops are used to iterate over a sequence (like a list)."
   ]
  },
  {
   "cell_type": "code",
   "execution_count": 16,
   "id": "941a9f77",
   "metadata": {},
   "outputs": [
    {
     "name": "stdout",
     "output_type": "stream",
     "text": [
      "1\n",
      "2\n",
      "3\n",
      "4\n",
      "5\n",
      "0\n",
      "1\n",
      "2\n",
      "3\n",
      "4\n"
     ]
    }
   ],
   "source": [
    "# For loop\n",
    "for num in numbers:\n",
    "    print(num)\n",
    "\n",
    "# While loop\n",
    "count = 0\n",
    "while count < 5:\n",
    "    print(count)\n",
    "    count += 1\n"
   ]
  },
  {
   "cell_type": "code",
   "execution_count": 17,
   "id": "9d32107a",
   "metadata": {},
   "outputs": [],
   "source": [
    "# Functions\n",
    "## Functions are blocks of code that perform a specific task."
   ]
  },
  {
   "cell_type": "code",
   "execution_count": 19,
   "id": "5f8f16f3",
   "metadata": {},
   "outputs": [
    {
     "name": "stdout",
     "output_type": "stream",
     "text": [
      "Hello, Alice!\n"
     ]
    }
   ],
   "source": [
    "# Function definition\n",
    "def greet(name):\n",
    "    return f\"Hello, {name}!\"\n",
    "\n",
    "# Function call\n",
    "message = greet(\"Alice\")\n",
    "print(message)"
   ]
  },
  {
   "cell_type": "code",
   "execution_count": 20,
   "id": "2d777039",
   "metadata": {},
   "outputs": [],
   "source": [
    "# If-Else Statements\n",
    "##  Conditional statements are used to perform different actions based on different conditions."
   ]
  },
  {
   "cell_type": "code",
   "execution_count": 24,
   "id": "3ac06e18",
   "metadata": {},
   "outputs": [
    {
     "name": "stdout",
     "output_type": "stream",
     "text": [
      "x is positive\n"
     ]
    }
   ],
   "source": [
    "# If-else statement\n",
    "if x > 0:\n",
    "    print(\"x is positive\")\n",
    "elif x < 0:\n",
    "    print(\"x is negative\")\n",
    "else:\n",
    "    print(\"x is zero\")\n"
   ]
  },
  {
   "cell_type": "code",
   "execution_count": 25,
   "id": "5f86b404",
   "metadata": {},
   "outputs": [],
   "source": [
    "# Classes and Objects\n",
    "## Python is an object-oriented programming language, which means it supports classes and objects"
   ]
  },
  {
   "cell_type": "code",
   "execution_count": 27,
   "id": "df058f14",
   "metadata": {},
   "outputs": [
    {
     "name": "stdout",
     "output_type": "stream",
     "text": [
      "Hello, my name is Alice and I am 25 years old.\n"
     ]
    }
   ],
   "source": [
    "# Class definition\n",
    "class Person:\n",
    "    def __init__(self, name, age):\n",
    "        self.name = name\n",
    "        self.age = age\n",
    "\n",
    "    def greet(self):\n",
    "        return f\"Hello, my name is {self.name} and I am {self.age} years old.\"\n",
    "\n",
    "# Creating an object\n",
    "person1 = Person(\"Alice\", 25)\n",
    "\n",
    "# Calling a method\n",
    "print(person1.greet())\n"
   ]
  },
  {
   "cell_type": "code",
   "execution_count": 28,
   "id": "82860552",
   "metadata": {},
   "outputs": [],
   "source": [
    "# Reading from and Writing to Files\n",
    "## You can read from and write to files in Python"
   ]
  },
  {
   "cell_type": "code",
   "execution_count": 29,
   "id": "9b2c6a06",
   "metadata": {},
   "outputs": [
    {
     "name": "stdout",
     "output_type": "stream",
     "text": [
      "Hello, World!\n"
     ]
    }
   ],
   "source": [
    "# Writing to a file\n",
    "with open(\"example.txt\", \"w\") as file:\n",
    "    file.write(\"Hello, World!\")\n",
    "\n",
    "# Reading from a file\n",
    "with open(\"example.txt\", \"r\") as file:\n",
    "    content = file.read()\n",
    "    print(content)\n"
   ]
  }
 ],
 "metadata": {
  "kernelspec": {
   "display_name": "Python 3 (ipykernel)",
   "language": "python",
   "name": "python3"
  },
  "language_info": {
   "codemirror_mode": {
    "name": "ipython",
    "version": 3
   },
   "file_extension": ".py",
   "mimetype": "text/x-python",
   "name": "python",
   "nbconvert_exporter": "python",
   "pygments_lexer": "ipython3",
   "version": "3.12.4"
  }
 },
 "nbformat": 4,
 "nbformat_minor": 5
}
