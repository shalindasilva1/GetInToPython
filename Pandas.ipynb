{
 "cells": [
  {
   "cell_type": "code",
   "execution_count": 3,
   "id": "56e8756b",
   "metadata": {},
   "outputs": [
    {
     "name": "stdout",
     "output_type": "stream",
     "text": [
      "Requirement already satisfied: pandas in /Library/Frameworks/Python.framework/Versions/3.12/lib/python3.12/site-packages (2.2.2)\n",
      "Requirement already satisfied: numpy>=1.26.0 in /Library/Frameworks/Python.framework/Versions/3.12/lib/python3.12/site-packages (from pandas) (2.0.1)\n",
      "Requirement already satisfied: python-dateutil>=2.8.2 in /Users/shalinda/Library/Python/3.12/lib/python/site-packages (from pandas) (2.9.0.post0)\n",
      "Requirement already satisfied: pytz>=2020.1 in /Library/Frameworks/Python.framework/Versions/3.12/lib/python3.12/site-packages (from pandas) (2024.1)\n",
      "Requirement already satisfied: tzdata>=2022.7 in /Library/Frameworks/Python.framework/Versions/3.12/lib/python3.12/site-packages (from pandas) (2024.1)\n",
      "Requirement already satisfied: six>=1.5 in /Users/shalinda/Library/Python/3.12/lib/python/site-packages (from python-dateutil>=2.8.2->pandas) (1.16.0)\n",
      "\n",
      "\u001b[1m[\u001b[0m\u001b[34;49mnotice\u001b[0m\u001b[1;39;49m]\u001b[0m\u001b[39;49m A new release of pip is available: \u001b[0m\u001b[31;49m24.0\u001b[0m\u001b[39;49m -> \u001b[0m\u001b[32;49m24.2\u001b[0m\n",
      "\u001b[1m[\u001b[0m\u001b[34;49mnotice\u001b[0m\u001b[1;39;49m]\u001b[0m\u001b[39;49m To update, run: \u001b[0m\u001b[32;49mpip3 install --upgrade pip\u001b[0m\n",
      "Note: you may need to restart the kernel to use updated packages.\n"
     ]
    }
   ],
   "source": [
    "pip install pandas"
   ]
  },
  {
   "cell_type": "markdown",
   "id": "7343f3b1",
   "metadata": {},
   "source": [
    "# Introduction to Pandas\n",
    "Pandas is a powerful Python library for data manipulation and analysis. It provides data structures and functions needed to work on structured data seamlessly.\n",
    "\n",
    "In this notebook, we'll cover some basic usage of Pandas including creating DataFrames, basic operations, and data manipulation."
   ]
  },
  {
   "cell_type": "code",
   "execution_count": 4,
   "id": "78a48119",
   "metadata": {},
   "outputs": [
    {
     "name": "stdout",
     "output_type": "stream",
     "text": [
      "2.2.2\n"
     ]
    }
   ],
   "source": [
    "# Importing Pandas\n",
    "import pandas as pd\n",
    "\n",
    "# Check the version of Pandas\n",
    "print(pd.__version__)"
   ]
  },
  {
   "cell_type": "markdown",
   "id": "b78b7545",
   "metadata": {},
   "source": [
    "## Creating a DataFrame\n",
    "A DataFrame is a 2-dimensional labeled data structure with columns of potentially different types. It is similar to a SQL table or a spreadsheet data representation.\n",
    "\n",
    "Let's create a simple DataFrame from a dictionary."
   ]
  },
  {
   "cell_type": "code",
   "execution_count": 5,
   "id": "7f9d9bc8",
   "metadata": {},
   "outputs": [
    {
     "name": "stdout",
     "output_type": "stream",
     "text": [
      "DataFrame:\n",
      "   Name  Age      City\n",
      "0  John   28  New York\n",
      "1  Anna   24    London\n",
      "2  Mike   32     Paris\n"
     ]
    }
   ],
   "source": [
    "# Create a DataFrame\n",
    "data = {\n",
    "    'Name': ['John', 'Anna', 'Mike'],\n",
    "    'Age': [28, 24, 32],\n",
    "    'City': ['New York', 'London', 'Paris']\n",
    "}\n",
    "\n",
    "df = pd.DataFrame(data)\n",
    "print(\"DataFrame:\")\n",
    "print(df)"
   ]
  },
  {
   "cell_type": "markdown",
   "id": "3f23bcd0",
   "metadata": {},
   "source": [
    "## Basic DataFrame Operations\n",
    "Let's explore some basic operations you can perform on a DataFrame:\n",
    "- Viewing the first few rows\n",
    "- Getting summary statistics\n",
    "- Selecting columns\n",
    "- Filtering rows"
   ]
  },
  {
   "cell_type": "code",
   "execution_count": 6,
   "id": "88b97abf",
   "metadata": {},
   "outputs": [
    {
     "name": "stdout",
     "output_type": "stream",
     "text": [
      "First 2 rows:\n",
      "   Name  Age      City\n",
      "0  John   28  New York\n",
      "1  Anna   24    London\n",
      "\n",
      "Summary statistics:\n",
      "        Age\n",
      "count   3.0\n",
      "mean   28.0\n",
      "std     4.0\n",
      "min    24.0\n",
      "25%    26.0\n",
      "50%    28.0\n",
      "75%    30.0\n",
      "max    32.0\n"
     ]
    }
   ],
   "source": [
    "# View the first 2 rows\n",
    "print(\"First 2 rows:\")\n",
    "print(df.head(2))\n",
    "\n",
    "# Get summary statistics for numerical columns\n",
    "print(\"\\nSummary statistics:\")\n",
    "print(df.describe())"
   ]
  },
  {
   "cell_type": "markdown",
   "id": "641d8c49",
   "metadata": {},
   "source": [
    "## Selecting Columns\n",
    "You can select specific columns from a DataFrame using column names."
   ]
  },
  {
   "cell_type": "code",
   "execution_count": 7,
   "id": "75d96fc3",
   "metadata": {},
   "outputs": [
    {
     "name": "stdout",
     "output_type": "stream",
     "text": [
      "Selected column 'Name':\n",
      "0    John\n",
      "1    Anna\n",
      "2    Mike\n",
      "Name: Name, dtype: object\n"
     ]
    }
   ],
   "source": [
    "# Select a column\n",
    "print(\"Selected column 'Name':\")\n",
    "print(df['Name'])"
   ]
  },
  {
   "cell_type": "markdown",
   "id": "0f0da916",
   "metadata": {},
   "source": [
    "## Filtering Rows\n",
    "You can filter rows based on some conditions."
   ]
  },
  {
   "cell_type": "code",
   "execution_count": 8,
   "id": "bfc0f393",
   "metadata": {},
   "outputs": [
    {
     "name": "stdout",
     "output_type": "stream",
     "text": [
      "Filtered DataFrame (Age > 25):\n",
      "   Name  Age      City\n",
      "0  John   28  New York\n",
      "2  Mike   32     Paris\n"
     ]
    }
   ],
   "source": [
    "# Filter rows where Age > 25\n",
    "print(\"Filtered DataFrame (Age > 25):\")\n",
    "print(df[df['Age'] > 25])"
   ]
  },
  {
   "cell_type": "markdown",
   "id": "d1829e74",
   "metadata": {},
   "source": [
    "## Conclusion\n",
    "We have covered some basic operations with Pandas DataFrames. You can now create DataFrames, perform basic operations, select columns, and filter rows. Pandas is a versatile library, and mastering it will greatly enhance your data analysis capabilities."
   ]
  }
 ],
 "metadata": {
  "kernelspec": {
   "display_name": "Python 3",
   "language": "python",
   "name": "python3"
  },
  "language_info": {
   "codemirror_mode": {
    "name": "ipython",
    "version": 3
   },
   "file_extension": ".py",
   "mimetype": "text/x-python",
   "name": "python",
   "nbconvert_exporter": "python",
   "pygments_lexer": "ipython3",
   "version": "3.12.4"
  }
 },
 "nbformat": 4,
 "nbformat_minor": 5
}
